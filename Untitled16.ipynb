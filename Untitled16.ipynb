{
  "nbformat": 4,
  "nbformat_minor": 0,
  "metadata": {
    "colab": {
      "provenance": []
    },
    "kernelspec": {
      "name": "python3",
      "display_name": "Python 3"
    },
    "language_info": {
      "name": "python"
    }
  },
  "cells": [
    {
      "cell_type": "code",
      "execution_count": null,
      "metadata": {
        "id": "nt8L_jJ866oU"
      },
      "outputs": [],
      "source": [
        "import numpy as np\n",
        "import pandas as pd\n",
        "from sklearn.datasets import load_iris\n",
        "from sklearn.model_selection import train_test_split\n",
        "from sklearn.tree import DecisionTreeClassifier\n",
        "from sklearn.metrics import accuracy_score, classification_report, confusion_matrix\n",
        "import matplotlib.pyplot as plt\n",
        "from sklearn import tree\n",
        "\n",
        "# Step 2: Load the Dataset\n",
        "iris = load_iris()\n",
        "X = iris.data  # Features\n",
        "y = iris.target  # Target variable\n",
        "\n",
        "# Step 3: Add Noise to the Dataset\n",
        "np.random.seed(42)  # For reproducibility\n",
        "noise = np.random.normal(0, 0.5, X.shape)  # Adding Gaussian noise\n",
        "X_noisy = X + noise  # Add noise to the features\n",
        "\n",
        "# Step 4: Split the Dataset into Training and Testing Sets\n",
        "X_train, X_test, y_train, y_test = train_test_split(X_noisy, y, test_size=0.2, random_state=42)\n",
        "\n",
        "# Step 5: Train the Decision Tree Model\n",
        "clf = DecisionTreeClassifier(random_state=42)\n",
        "clf.fit(X_train, y_train)\n",
        "\n",
        "# Step 6: Make Predictions\n",
        "y_pred = clf.predict(X_test)\n",
        "\n",
        "# Step 7: Evaluate the Model\n",
        "accuracy = accuracy_score(y_test, y_pred)\n",
        "print(f'Accuracy: {accuracy:.2f}')\n",
        "print('Classification Report:')\n",
        "print(classification_report(y_test, y_pred))\n",
        "print('Confusion Matrix:')\n",
        "print(confusion_matrix(y_test, y_pred))\n",
        "\n",
        "# Step 8: Visualize the Decision Tree\n",
        "plt.figure(figsize=(12,8))\n",
        "tree.plot_tree(clf, filled=True, feature_names=iris.feature_names, class_names=iris.target_names)\n",
        "plt.title(\"Decision Tree Visualization with Noisy Data\")\n",
        "plt.show()"
      ]
    }
  ]
}