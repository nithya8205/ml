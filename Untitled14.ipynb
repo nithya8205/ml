{
  "nbformat": 4,
  "nbformat_minor": 0,
  "metadata": {
    "colab": {
      "provenance": []
    },
    "kernelspec": {
      "name": "python3",
      "display_name": "Python 3"
    },
    "language_info": {
      "name": "python"
    }
  },
  "cells": [
    {
      "cell_type": "code",
      "execution_count": null,
      "metadata": {
        "colab": {
          "base_uri": "https://localhost:8080/"
        },
        "id": "GaNREPmW6hHp",
        "outputId": "974079cc-551c-4abd-a36c-cdbd540acb11"
      },
      "outputs": [
        {
          "output_type": "stream",
          "name": "stdout",
          "text": [
            "Accuracy: 0.35\n",
            "\n",
            "Classification Report:\n",
            "               precision    recall  f1-score   support\n",
            "\n",
            "           0       0.33      0.30      0.32        10\n",
            "           1       0.36      0.40      0.38        10\n",
            "\n",
            "    accuracy                           0.35        20\n",
            "   macro avg       0.35      0.35      0.35        20\n",
            "weighted avg       0.35      0.35      0.35        20\n",
            "\n"
          ]
        }
      ],
      "source": [
        "import numpy as np\n",
        "from sklearn.model_selection import train_test_split\n",
        "from sklearn.preprocessing import StandardScaler\n",
        "from sklearn.svm import SVC\n",
        "from sklearn.metrics import classification_report, accuracy_score\n",
        "\n",
        "# Load your dataset (replace this with actual data loading)\n",
        "# X should contain features (e.g., extracted from images), y should contain labels (e.g., 0 for benign, 1 for malignant)\n",
        "# Example: X, y = load_skin_cancer_dataset()\n",
        "\n",
        "# Example synthetic data (replace with real data)\n",
        "X = np.random.rand(100, 5)  # 100 samples, 5 features each\n",
        "y = np.random.choice([0, 1], size=100)  # Random binary labels\n",
        "\n",
        "# Split the dataset into training and testing sets\n",
        "X_train, X_test, y_train, y_test = train_test_split(X, y, test_size=0.2, random_state=42)\n",
        "\n",
        "# Standardize the features\n",
        "scaler = StandardScaler()\n",
        "X_train = scaler.fit_transform(X_train)\n",
        "X_test = scaler.transform(X_test)\n",
        "\n",
        "# Train a Support Vector Classifier\n",
        "svc = SVC(kernel='linear', C=1.0, random_state=42)  # You can try different kernels like 'rbf', 'poly', etc.\n",
        "svc.fit(X_train, y_train)\n",
        "\n",
        "# Make predictions\n",
        "y_pred = svc.predict(X_test)\n",
        "\n",
        "# Evaluate the model\n",
        "print(\"Accuracy:\", accuracy_score(y_test, y_pred))\n",
        "print(\"\\nClassification Report:\\n\", classification_report(y_test, y_pred))"
      ]
    }
  ]
}