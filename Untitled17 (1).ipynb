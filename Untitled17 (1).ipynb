{
  "nbformat": 4,
  "nbformat_minor": 0,
  "metadata": {
    "colab": {
      "provenance": []
    },
    "kernelspec": {
      "name": "python3",
      "display_name": "Python 3"
    },
    "language_info": {
      "name": "python"
    }
  },
  "cells": [
    {
      "cell_type": "code",
      "execution_count": null,
      "metadata": {
        "id": "06B_TDyH-rSk"
      },
      "outputs": [],
      "source": [
        "import pandas as pd\n",
        "import matplotlib.pyplot as plt\n",
        "\n",
        "Age = [45, 26, 30, 34, 40, 36, 19, 28, 23, 32, 38]\n",
        "Height = [5, 5.11, 5.6, 5.9, 4.8, 5.8, 5.3, 5.8, 5.5, 5.6, 5.5]\n",
        "Weight = [77, 47, 55, 59, 72, 60, 40, 60, 45, 58, \"?\"]\n",
        "\n",
        "# Fixing the missing comma in the DataFrame definition\n",
        "Height_Age_Weight_df = pd.DataFrame({\"Height\": Height, \"Age\": Age, \"Weight\": Weight})\n",
        "\n",
        "# Display the DataFrame\n",
        "Height_Age_Weight_df"
      ]
    }
  ]
}