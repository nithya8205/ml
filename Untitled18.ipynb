{
  "nbformat": 4,
  "nbformat_minor": 0,
  "metadata": {
    "colab": {
      "provenance": []
    },
    "kernelspec": {
      "name": "python3",
      "display_name": "Python 3"
    },
    "language_info": {
      "name": "python"
    }
  },
  "cells": [
    {
      "cell_type": "code",
      "execution_count": null,
      "metadata": {
        "id": "nd6DN2rN-w0Y"
      },
      "outputs": [],
      "source": [
        "import numpy as np\n",
        "import matplotlib.pyplot as mtp\n",
        "import pandas as pd\n",
        "from sklearn import datasets, linear_model\n",
        "diabetes = datasets.load_diabetes()\n",
        "print(\"feature names :\",diabetes['feature_names'])\n",
        "print(\"first five rows of data:\\n\",diabetes[ 'data'][:5])\n",
        "\n",
        "x = diabetes.data[:, np.newaxis, 2]\n",
        "y = diabetes.target\n",
        "from sklearn.model_selection import train_test_split\n",
        "x_train, x_test, y_train, y_test = train_test_split(x, y, test_size=1/3, random_state =0)"
      ]
    }
  ]
}